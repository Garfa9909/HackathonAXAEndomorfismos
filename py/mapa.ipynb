{
 "cells": [
  {
   "cell_type": "code",
   "execution_count": null,
   "metadata": {
    "vscode": {
     "languageId": "plaintext"
    }
   },
   "outputs": [],
   "source": [
    "import geopandas as gpd\n",
    "import matplotlib.pyplot as plt\n",
    "\n",
    "# Descargar los datos geográficos de las provincias españolas\n",
    "# Puedes descargar el archivo shapefile de:\n",
    "# https://www.ine.es/censos2011_datos/cen11_datos_provincias.htm\n",
    "\n",
    "# Cargar los datos (asegúrate de tener el archivo en tu directorio)\n",
    "# Alternativamente, puedes usar un dataset público:\n",
    "url = \"https://raw.githubusercontent.com/codeforamerica/click_that_hood/master/public/data/spain-provinces.geojson\"\n",
    "provincias = gpd.read_file(url)\n",
    "\n",
    "# Si el enlace anterior no funciona, puedes descargar el archivo manualmente y cargarlo así:\n",
    "# provincias = gpd.read_file(\"ruta/a/tu/archivo.geojson\")\n",
    "\n",
    "# Crear el mapa base\n",
    "fig, ax = plt.subplots(figsize=(12, 12))\n",
    "\n",
    "# Dibujar todas las provincias en gris claro\n",
    "provincias.plot(ax=ax, color='lightgray', edgecolor='black', linewidth=0.5)\n",
    "\n",
    "# Personalizar el mapa\n",
    "ax.set_title('Mapa de España por provincias', fontsize=16)\n",
    "ax.set_axis_off()  # Ocultar ejes\n",
    "\n",
    "# Función para colorear una provincia específica\n",
    "def colorear_provincia(codigo_ine, color, ax):\n",
    "    \"\"\"Colorea una provincia según su código INE\"\"\"\n",
    "    provincia = provincias[provincias['codigo_ine'] == str(codigo_ine)]\n",
    "    if not provincia.empty:\n",
    "        provincia.plot(ax=ax, color=color, edgecolor='black', linewidth=0.5)\n",
    "    else:\n",
    "        print(f\"No se encontró la provincia con código INE: {codigo_ine}\")\n",
    "\n",
    "# Ejemplo: colorear algunas provincias\n",
    "colorear_provincia('08', 'red', ax)    # Barcelona\n",
    "colorear_provincia('28', 'blue', ax)   # Madrid\n",
    "colorear_provincia('41', 'green', ax)  # Sevilla\n",
    "colorear_provincia('48', 'yellow', ax) # Bizkaia\n",
    "\n",
    "# Mostrar el mapa\n",
    "plt.tight_layout()\n",
    "plt.show()\n",
    "\n",
    "# También puedes acceder a los datos de cada provincia\n",
    "print(\"\\nInformación disponible para cada provincia:\")\n",
    "print(provincias.columns)\n",
    "\n",
    "# Ejemplo: mostrar nombres de todas las provincias\n",
    "print(\"\\nLista de provincias con sus códigos INE:\")\n",
    "for _, row in provincias.iterrows():\n",
    "    print(f\"Código INE: {row['codigo_ine']}, Nombre: {row['name']}\")"
   ]
  }
 ],
 "metadata": {
  "language_info": {
   "name": "python"
  }
 },
 "nbformat": 4,
 "nbformat_minor": 2
}
